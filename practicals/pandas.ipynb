{
 "cells": [
  {
   "cell_type": "code",
   "execution_count": 11,
   "metadata": {},
   "outputs": [
    {
     "name": "stdout",
     "output_type": "stream",
     "text": [
      "Defaulting to user installation because normal site-packages is not writeableNote: you may need to restart the kernel to use updated packages.\n"
     ]
    },
    {
     "name": "stderr",
     "output_type": "stream",
     "text": [
      "\n",
      "[notice] A new release of pip is available: 24.2 -> 24.3.1\n",
      "[notice] To update, run: python.exe -m pip install --upgrade pip\n"
     ]
    },
    {
     "name": "stdout",
     "output_type": "stream",
     "text": [
      "\n",
      "Requirement already satisfied: pandas in c:\\users\\hello\\appdata\\roaming\\python\\python312\\site-packages (2.2.2)\n",
      "Requirement already satisfied: numpy in c:\\users\\hello\\appdata\\roaming\\python\\python312\\site-packages (1.26.4)\n",
      "Collecting kagglehub\n",
      "  Downloading kagglehub-0.3.4-py3-none-any.whl.metadata (22 kB)\n",
      "Requirement already satisfied: python-dateutil>=2.8.2 in c:\\users\\hello\\appdata\\roaming\\python\\python312\\site-packages (from pandas) (2.9.0.post0)\n",
      "Requirement already satisfied: pytz>=2020.1 in c:\\users\\hello\\appdata\\roaming\\python\\python312\\site-packages (from pandas) (2024.1)\n",
      "Requirement already satisfied: tzdata>=2022.7 in c:\\users\\hello\\appdata\\roaming\\python\\python312\\site-packages (from pandas) (2024.1)\n",
      "Requirement already satisfied: packaging in c:\\users\\hello\\appdata\\roaming\\python\\python312\\site-packages (from kagglehub) (24.1)\n",
      "Requirement already satisfied: requests in c:\\users\\hello\\appdata\\roaming\\python\\python312\\site-packages (from kagglehub) (2.32.3)\n",
      "Requirement already satisfied: tqdm in c:\\users\\hello\\appdata\\roaming\\python\\python312\\site-packages (from kagglehub) (4.66.5)\n",
      "Requirement already satisfied: six>=1.5 in c:\\users\\hello\\appdata\\roaming\\python\\python312\\site-packages (from python-dateutil>=2.8.2->pandas) (1.16.0)\n",
      "Requirement already satisfied: charset-normalizer<4,>=2 in c:\\users\\hello\\appdata\\roaming\\python\\python312\\site-packages (from requests->kagglehub) (3.3.2)\n",
      "Requirement already satisfied: idna<4,>=2.5 in c:\\users\\hello\\appdata\\roaming\\python\\python312\\site-packages (from requests->kagglehub) (3.10)\n",
      "Requirement already satisfied: urllib3<3,>=1.21.1 in c:\\users\\hello\\appdata\\roaming\\python\\python312\\site-packages (from requests->kagglehub) (2.2.3)\n",
      "Requirement already satisfied: certifi>=2017.4.17 in c:\\users\\hello\\appdata\\roaming\\python\\python312\\site-packages (from requests->kagglehub) (2024.8.30)\n",
      "Requirement already satisfied: colorama in c:\\users\\hello\\appdata\\roaming\\python\\python312\\site-packages (from tqdm->kagglehub) (0.4.6)\n",
      "Downloading kagglehub-0.3.4-py3-none-any.whl (43 kB)\n",
      "Installing collected packages: kagglehub\n",
      "Successfully installed kagglehub-0.3.4\n"
     ]
    }
   ],
   "source": [
    "pip install pandas numpy kagglehub\n"
   ]
  },
  {
   "cell_type": "code",
   "execution_count": 3,
   "metadata": {},
   "outputs": [],
   "source": [
    "import pandas as pd\n",
    "import numpy as np"
   ]
  },
  {
   "cell_type": "markdown",
   "metadata": {},
   "source": [
    "## Series"
   ]
  },
  {
   "cell_type": "code",
   "execution_count": 7,
   "metadata": {},
   "outputs": [
    {
     "name": "stdout",
     "output_type": "stream",
     "text": [
      "['item_1' 'item_2' 'item_3' 'item_4' 'item_5']\n",
      "0    item_1\n",
      "1    item_2\n",
      "2    item_3\n",
      "3    item_4\n",
      "4    item_5\n",
      "dtype: object\n"
     ]
    }
   ],
   "source": [
    "arr = np.array(['item_1', 'item_2', 'item_3', 'item_4', 'item_5'])\n",
    "print(arr)\n",
    "\n",
    "arr_series = pd.Series(arr)\n",
    "print(arr_series)"
   ]
  },
  {
   "cell_type": "code",
   "execution_count": 9,
   "metadata": {},
   "outputs": [
    {
     "name": "stdout",
     "output_type": "stream",
     "text": [
      "0    item_1\n",
      "1    item_2\n",
      "2    item_3\n",
      "3    item_4\n",
      "4    item_5\n",
      "dtype: object\n"
     ]
    }
   ],
   "source": [
    "item_list = ['item_1', 'item_2', 'item_3', 'item_4', 'item_5']\n",
    "\n",
    "series = pd.Series(item_list)\n",
    "print(series)"
   ]
  },
  {
   "cell_type": "code",
   "execution_count": 18,
   "metadata": {},
   "outputs": [
    {
     "data": {
      "text/html": [
       "<div>\n",
       "<style scoped>\n",
       "    .dataframe tbody tr th:only-of-type {\n",
       "        vertical-align: middle;\n",
       "    }\n",
       "\n",
       "    .dataframe tbody tr th {\n",
       "        vertical-align: top;\n",
       "    }\n",
       "\n",
       "    .dataframe thead th {\n",
       "        text-align: right;\n",
       "    }\n",
       "</style>\n",
       "<table border=\"1\" class=\"dataframe\">\n",
       "  <thead>\n",
       "    <tr style=\"text-align: right;\">\n",
       "      <th></th>\n",
       "      <th>0</th>\n",
       "    </tr>\n",
       "  </thead>\n",
       "  <tbody>\n",
       "    <tr>\n",
       "      <th>0</th>\n",
       "      <td>item_1</td>\n",
       "    </tr>\n",
       "    <tr>\n",
       "      <th>1</th>\n",
       "      <td>item_2</td>\n",
       "    </tr>\n",
       "    <tr>\n",
       "      <th>2</th>\n",
       "      <td>item_3</td>\n",
       "    </tr>\n",
       "    <tr>\n",
       "      <th>3</th>\n",
       "      <td>item_4</td>\n",
       "    </tr>\n",
       "  </tbody>\n",
       "</table>\n",
       "</div>"
      ],
      "text/plain": [
       "        0\n",
       "0  item_1\n",
       "1  item_2\n",
       "2  item_3\n",
       "3  item_4"
      ]
     },
     "execution_count": 18,
     "metadata": {},
     "output_type": "execute_result"
    }
   ],
   "source": [
    "lst = ['item_1', 'item_2', 'item_3', 'item_4']\n",
    "\n",
    "data = pd.DataFrame(lst)\n",
    "data"
   ]
  },
  {
   "cell_type": "code",
   "execution_count": 19,
   "metadata": {},
   "outputs": [
    {
     "data": {
      "text/html": [
       "<div>\n",
       "<style scoped>\n",
       "    .dataframe tbody tr th:only-of-type {\n",
       "        vertical-align: middle;\n",
       "    }\n",
       "\n",
       "    .dataframe tbody tr th {\n",
       "        vertical-align: top;\n",
       "    }\n",
       "\n",
       "    .dataframe thead th {\n",
       "        text-align: right;\n",
       "    }\n",
       "</style>\n",
       "<table border=\"1\" class=\"dataframe\">\n",
       "  <thead>\n",
       "    <tr style=\"text-align: right;\">\n",
       "      <th></th>\n",
       "      <th>name</th>\n",
       "      <th>age</th>\n",
       "    </tr>\n",
       "  </thead>\n",
       "  <tbody>\n",
       "    <tr>\n",
       "      <th>0</th>\n",
       "      <td>name_1</td>\n",
       "      <td>19</td>\n",
       "    </tr>\n",
       "    <tr>\n",
       "      <th>1</th>\n",
       "      <td>name_2</td>\n",
       "      <td>20</td>\n",
       "    </tr>\n",
       "    <tr>\n",
       "      <th>2</th>\n",
       "      <td>name_3</td>\n",
       "      <td>21</td>\n",
       "    </tr>\n",
       "    <tr>\n",
       "      <th>3</th>\n",
       "      <td>name_4</td>\n",
       "      <td>22</td>\n",
       "    </tr>\n",
       "  </tbody>\n",
       "</table>\n",
       "</div>"
      ],
      "text/plain": [
       "     name  age\n",
       "0  name_1   19\n",
       "1  name_2   20\n",
       "2  name_3   21\n",
       "3  name_4   22"
      ]
     },
     "execution_count": 19,
     "metadata": {},
     "output_type": "execute_result"
    }
   ],
   "source": [
    "data = {\n",
    "    'name': ['name_1', 'name_2', 'name_3', 'name_4'],\n",
    "    'age': [19, 20, 21, 22]\n",
    "}\n",
    "\n",
    "data = pd.DataFrame(data)\n",
    "data"
   ]
  },
  {
   "cell_type": "markdown",
   "metadata": {},
   "source": [
    "## Reindexing"
   ]
  },
  {
   "cell_type": "code",
   "execution_count": 21,
   "metadata": {},
   "outputs": [
    {
     "data": {
      "text/html": [
       "<div>\n",
       "<style scoped>\n",
       "    .dataframe tbody tr th:only-of-type {\n",
       "        vertical-align: middle;\n",
       "    }\n",
       "\n",
       "    .dataframe tbody tr th {\n",
       "        vertical-align: top;\n",
       "    }\n",
       "\n",
       "    .dataframe thead th {\n",
       "        text-align: right;\n",
       "    }\n",
       "</style>\n",
       "<table border=\"1\" class=\"dataframe\">\n",
       "  <thead>\n",
       "    <tr style=\"text-align: right;\">\n",
       "      <th></th>\n",
       "      <th>DAA</th>\n",
       "      <th>WD</th>\n",
       "      <th>A_JAVA</th>\n",
       "    </tr>\n",
       "  </thead>\n",
       "  <tbody>\n",
       "    <tr>\n",
       "      <th>Parth</th>\n",
       "      <td>14</td>\n",
       "      <td>17</td>\n",
       "      <td>14</td>\n",
       "    </tr>\n",
       "    <tr>\n",
       "      <th>Patil</th>\n",
       "      <td>12</td>\n",
       "      <td>16</td>\n",
       "      <td>13</td>\n",
       "    </tr>\n",
       "    <tr>\n",
       "      <th>Jay</th>\n",
       "      <td>13</td>\n",
       "      <td>15</td>\n",
       "      <td>12</td>\n",
       "    </tr>\n",
       "    <tr>\n",
       "      <th>JD</th>\n",
       "      <td>13</td>\n",
       "      <td>14</td>\n",
       "      <td>12</td>\n",
       "    </tr>\n",
       "  </tbody>\n",
       "</table>\n",
       "</div>"
      ],
      "text/plain": [
       "       DAA  WD  A_JAVA\n",
       "Parth   14  17      14\n",
       "Patil   12  16      13\n",
       "Jay     13  15      12\n",
       "JD      13  14      12"
      ]
     },
     "execution_count": 21,
     "metadata": {},
     "output_type": "execute_result"
    }
   ],
   "source": [
    "res = pd.DataFrame(\n",
    "    {\n",
    "        'DAA': [14, 12, 13, 13],\n",
    "        'WD': [17, 16, 15, 14],\n",
    "        'A_JAVA': [14, 13, 12, 12]\n",
    "    }, \n",
    "    index = [\"Parth\", \"Patil\", \"Jay\", \"JD\"]\n",
    ")\n",
    "\n",
    "res"
   ]
  },
  {
   "cell_type": "code",
   "execution_count": 23,
   "metadata": {},
   "outputs": [
    {
     "data": {
      "text/html": [
       "<div>\n",
       "<style scoped>\n",
       "    .dataframe tbody tr th:only-of-type {\n",
       "        vertical-align: middle;\n",
       "    }\n",
       "\n",
       "    .dataframe tbody tr th {\n",
       "        vertical-align: top;\n",
       "    }\n",
       "\n",
       "    .dataframe thead th {\n",
       "        text-align: right;\n",
       "    }\n",
       "</style>\n",
       "<table border=\"1\" class=\"dataframe\">\n",
       "  <thead>\n",
       "    <tr style=\"text-align: right;\">\n",
       "      <th></th>\n",
       "      <th>name</th>\n",
       "      <th>age</th>\n",
       "    </tr>\n",
       "  </thead>\n",
       "  <tbody>\n",
       "    <tr>\n",
       "      <th>Panchal</th>\n",
       "      <td>NaN</td>\n",
       "      <td>NaN</td>\n",
       "    </tr>\n",
       "    <tr>\n",
       "      <th>KS</th>\n",
       "      <td>NaN</td>\n",
       "      <td>NaN</td>\n",
       "    </tr>\n",
       "    <tr>\n",
       "      <th>Kalsariya</th>\n",
       "      <td>NaN</td>\n",
       "      <td>NaN</td>\n",
       "    </tr>\n",
       "    <tr>\n",
       "      <th>Goswami</th>\n",
       "      <td>NaN</td>\n",
       "      <td>NaN</td>\n",
       "    </tr>\n",
       "  </tbody>\n",
       "</table>\n",
       "</div>"
      ],
      "text/plain": [
       "          name  age\n",
       "Panchal    NaN  NaN\n",
       "KS         NaN  NaN\n",
       "Kalsariya  NaN  NaN\n",
       "Goswami    NaN  NaN"
      ]
     },
     "execution_count": 23,
     "metadata": {},
     "output_type": "execute_result"
    }
   ],
   "source": [
    "data.reindex([\"Panchal\", \"KS\", \"Kalsariya\", \"Goswami\"])"
   ]
  },
  {
   "cell_type": "code",
   "execution_count": 24,
   "metadata": {},
   "outputs": [
    {
     "data": {
      "text/html": [
       "<div>\n",
       "<style scoped>\n",
       "    .dataframe tbody tr th:only-of-type {\n",
       "        vertical-align: middle;\n",
       "    }\n",
       "\n",
       "    .dataframe tbody tr th {\n",
       "        vertical-align: top;\n",
       "    }\n",
       "\n",
       "    .dataframe thead th {\n",
       "        text-align: right;\n",
       "    }\n",
       "</style>\n",
       "<table border=\"1\" class=\"dataframe\">\n",
       "  <thead>\n",
       "    <tr style=\"text-align: right;\">\n",
       "      <th></th>\n",
       "      <th>name</th>\n",
       "      <th>age</th>\n",
       "    </tr>\n",
       "  </thead>\n",
       "  <tbody>\n",
       "    <tr>\n",
       "      <th>Panchal</th>\n",
       "      <td>15</td>\n",
       "      <td>15</td>\n",
       "    </tr>\n",
       "    <tr>\n",
       "      <th>KS</th>\n",
       "      <td>15</td>\n",
       "      <td>15</td>\n",
       "    </tr>\n",
       "    <tr>\n",
       "      <th>Kalsariya</th>\n",
       "      <td>15</td>\n",
       "      <td>15</td>\n",
       "    </tr>\n",
       "    <tr>\n",
       "      <th>Goswami</th>\n",
       "      <td>15</td>\n",
       "      <td>15</td>\n",
       "    </tr>\n",
       "  </tbody>\n",
       "</table>\n",
       "</div>"
      ],
      "text/plain": [
       "          name  age\n",
       "Panchal     15   15\n",
       "KS          15   15\n",
       "Kalsariya   15   15\n",
       "Goswami     15   15"
      ]
     },
     "execution_count": 24,
     "metadata": {},
     "output_type": "execute_result"
    }
   ],
   "source": [
    "data.reindex([\"Panchal\", \"KS\", \"Kalsariya\", \"Goswami\"], fill_value=15)"
   ]
  },
  {
   "cell_type": "markdown",
   "metadata": {},
   "source": [
    "## Pandas Sorting "
   ]
  },
  {
   "cell_type": "code",
   "execution_count": 48,
   "metadata": {},
   "outputs": [
    {
     "data": {
      "text/html": [
       "<div>\n",
       "<style scoped>\n",
       "    .dataframe tbody tr th:only-of-type {\n",
       "        vertical-align: middle;\n",
       "    }\n",
       "\n",
       "    .dataframe tbody tr th {\n",
       "        vertical-align: top;\n",
       "    }\n",
       "\n",
       "    .dataframe thead th {\n",
       "        text-align: right;\n",
       "    }\n",
       "</style>\n",
       "<table border=\"1\" class=\"dataframe\">\n",
       "  <thead>\n",
       "    <tr style=\"text-align: right;\">\n",
       "      <th></th>\n",
       "      <th>col_2</th>\n",
       "      <th>col_1</th>\n",
       "    </tr>\n",
       "  </thead>\n",
       "  <tbody>\n",
       "    <tr>\n",
       "      <th>1</th>\n",
       "      <td>0.569614</td>\n",
       "      <td>-1.348525</td>\n",
       "    </tr>\n",
       "    <tr>\n",
       "      <th>4</th>\n",
       "      <td>-0.589437</td>\n",
       "      <td>0.999419</td>\n",
       "    </tr>\n",
       "    <tr>\n",
       "      <th>6</th>\n",
       "      <td>0.916732</td>\n",
       "      <td>-2.681002</td>\n",
       "    </tr>\n",
       "    <tr>\n",
       "      <th>2</th>\n",
       "      <td>0.901973</td>\n",
       "      <td>1.019166</td>\n",
       "    </tr>\n",
       "    <tr>\n",
       "      <th>3</th>\n",
       "      <td>0.214317</td>\n",
       "      <td>-0.457824</td>\n",
       "    </tr>\n",
       "    <tr>\n",
       "      <th>5</th>\n",
       "      <td>0.832609</td>\n",
       "      <td>0.873305</td>\n",
       "    </tr>\n",
       "    <tr>\n",
       "      <th>9</th>\n",
       "      <td>-1.127470</td>\n",
       "      <td>-0.099966</td>\n",
       "    </tr>\n",
       "    <tr>\n",
       "      <th>8</th>\n",
       "      <td>0.527463</td>\n",
       "      <td>-1.283822</td>\n",
       "    </tr>\n",
       "    <tr>\n",
       "      <th>0</th>\n",
       "      <td>-0.694423</td>\n",
       "      <td>-0.687615</td>\n",
       "    </tr>\n",
       "    <tr>\n",
       "      <th>7</th>\n",
       "      <td>0.256398</td>\n",
       "      <td>-0.167888</td>\n",
       "    </tr>\n",
       "  </tbody>\n",
       "</table>\n",
       "</div>"
      ],
      "text/plain": [
       "      col_2     col_1\n",
       "1  0.569614 -1.348525\n",
       "4 -0.589437  0.999419\n",
       "6  0.916732 -2.681002\n",
       "2  0.901973  1.019166\n",
       "3  0.214317 -0.457824\n",
       "5  0.832609  0.873305\n",
       "9 -1.127470 -0.099966\n",
       "8  0.527463 -1.283822\n",
       "0 -0.694423 -0.687615\n",
       "7  0.256398 -0.167888"
      ]
     },
     "execution_count": 48,
     "metadata": {},
     "output_type": "execute_result"
    }
   ],
   "source": [
    "data = pd.DataFrame(np.random.randn(10, 2), index = [1, 4, 6, 2, 3, 5, 9, 8, 0, 7], columns=['col_2', 'col_1'])\n",
    "data"
   ]
  },
  {
   "cell_type": "code",
   "execution_count": null,
   "metadata": {},
   "outputs": [
    {
     "data": {
      "text/html": [
       "<div>\n",
       "<style scoped>\n",
       "    .dataframe tbody tr th:only-of-type {\n",
       "        vertical-align: middle;\n",
       "    }\n",
       "\n",
       "    .dataframe tbody tr th {\n",
       "        vertical-align: top;\n",
       "    }\n",
       "\n",
       "    .dataframe thead th {\n",
       "        text-align: right;\n",
       "    }\n",
       "</style>\n",
       "<table border=\"1\" class=\"dataframe\">\n",
       "  <thead>\n",
       "    <tr style=\"text-align: right;\">\n",
       "      <th></th>\n",
       "      <th>col_2</th>\n",
       "      <th>col_1</th>\n",
       "    </tr>\n",
       "  </thead>\n",
       "  <tbody>\n",
       "    <tr>\n",
       "      <th>0</th>\n",
       "      <td>-0.694423</td>\n",
       "      <td>-0.687615</td>\n",
       "    </tr>\n",
       "    <tr>\n",
       "      <th>1</th>\n",
       "      <td>0.569614</td>\n",
       "      <td>-1.348525</td>\n",
       "    </tr>\n",
       "    <tr>\n",
       "      <th>2</th>\n",
       "      <td>0.901973</td>\n",
       "      <td>1.019166</td>\n",
       "    </tr>\n",
       "    <tr>\n",
       "      <th>3</th>\n",
       "      <td>0.214317</td>\n",
       "      <td>-0.457824</td>\n",
       "    </tr>\n",
       "    <tr>\n",
       "      <th>4</th>\n",
       "      <td>-0.589437</td>\n",
       "      <td>0.999419</td>\n",
       "    </tr>\n",
       "    <tr>\n",
       "      <th>5</th>\n",
       "      <td>0.832609</td>\n",
       "      <td>0.873305</td>\n",
       "    </tr>\n",
       "    <tr>\n",
       "      <th>6</th>\n",
       "      <td>0.916732</td>\n",
       "      <td>-2.681002</td>\n",
       "    </tr>\n",
       "    <tr>\n",
       "      <th>7</th>\n",
       "      <td>0.256398</td>\n",
       "      <td>-0.167888</td>\n",
       "    </tr>\n",
       "    <tr>\n",
       "      <th>8</th>\n",
       "      <td>0.527463</td>\n",
       "      <td>-1.283822</td>\n",
       "    </tr>\n",
       "    <tr>\n",
       "      <th>9</th>\n",
       "      <td>-1.127470</td>\n",
       "      <td>-0.099966</td>\n",
       "    </tr>\n",
       "  </tbody>\n",
       "</table>\n",
       "</div>"
      ],
      "text/plain": [
       "      col_2     col_1\n",
       "0 -0.694423 -0.687615\n",
       "1  0.569614 -1.348525\n",
       "2  0.901973  1.019166\n",
       "3  0.214317 -0.457824\n",
       "4 -0.589437  0.999419\n",
       "5  0.832609  0.873305\n",
       "6  0.916732 -2.681002\n",
       "7  0.256398 -0.167888\n",
       "8  0.527463 -1.283822\n",
       "9 -1.127470 -0.099966"
      ]
     },
     "execution_count": 52,
     "metadata": {},
     "output_type": "execute_result"
    }
   ],
   "source": [
    "# By index\n",
    "info = data.sort_index(ascending=True)\n",
    "info"
   ]
  },
  {
   "cell_type": "code",
   "execution_count": 53,
   "metadata": {},
   "outputs": [
    {
     "data": {
      "text/html": [
       "<div>\n",
       "<style scoped>\n",
       "    .dataframe tbody tr th:only-of-type {\n",
       "        vertical-align: middle;\n",
       "    }\n",
       "\n",
       "    .dataframe tbody tr th {\n",
       "        vertical-align: top;\n",
       "    }\n",
       "\n",
       "    .dataframe thead th {\n",
       "        text-align: right;\n",
       "    }\n",
       "</style>\n",
       "<table border=\"1\" class=\"dataframe\">\n",
       "  <thead>\n",
       "    <tr style=\"text-align: right;\">\n",
       "      <th></th>\n",
       "      <th>col_1</th>\n",
       "      <th>col_2</th>\n",
       "    </tr>\n",
       "  </thead>\n",
       "  <tbody>\n",
       "    <tr>\n",
       "      <th>1</th>\n",
       "      <td>-1.348525</td>\n",
       "      <td>0.569614</td>\n",
       "    </tr>\n",
       "    <tr>\n",
       "      <th>4</th>\n",
       "      <td>0.999419</td>\n",
       "      <td>-0.589437</td>\n",
       "    </tr>\n",
       "    <tr>\n",
       "      <th>6</th>\n",
       "      <td>-2.681002</td>\n",
       "      <td>0.916732</td>\n",
       "    </tr>\n",
       "    <tr>\n",
       "      <th>2</th>\n",
       "      <td>1.019166</td>\n",
       "      <td>0.901973</td>\n",
       "    </tr>\n",
       "    <tr>\n",
       "      <th>3</th>\n",
       "      <td>-0.457824</td>\n",
       "      <td>0.214317</td>\n",
       "    </tr>\n",
       "    <tr>\n",
       "      <th>5</th>\n",
       "      <td>0.873305</td>\n",
       "      <td>0.832609</td>\n",
       "    </tr>\n",
       "    <tr>\n",
       "      <th>9</th>\n",
       "      <td>-0.099966</td>\n",
       "      <td>-1.127470</td>\n",
       "    </tr>\n",
       "    <tr>\n",
       "      <th>8</th>\n",
       "      <td>-1.283822</td>\n",
       "      <td>0.527463</td>\n",
       "    </tr>\n",
       "    <tr>\n",
       "      <th>0</th>\n",
       "      <td>-0.687615</td>\n",
       "      <td>-0.694423</td>\n",
       "    </tr>\n",
       "    <tr>\n",
       "      <th>7</th>\n",
       "      <td>-0.167888</td>\n",
       "      <td>0.256398</td>\n",
       "    </tr>\n",
       "  </tbody>\n",
       "</table>\n",
       "</div>"
      ],
      "text/plain": [
       "      col_1     col_2\n",
       "1 -1.348525  0.569614\n",
       "4  0.999419 -0.589437\n",
       "6 -2.681002  0.916732\n",
       "2  1.019166  0.901973\n",
       "3 -0.457824  0.214317\n",
       "5  0.873305  0.832609\n",
       "9 -0.099966 -1.127470\n",
       "8 -1.283822  0.527463\n",
       "0 -0.687615 -0.694423\n",
       "7 -0.167888  0.256398"
      ]
     },
     "execution_count": 53,
     "metadata": {},
     "output_type": "execute_result"
    }
   ],
   "source": [
    "# By columns\n",
    "info = data.sort_index(axis=True)\n",
    "info"
   ]
  },
  {
   "cell_type": "code",
   "execution_count": null,
   "metadata": {},
   "outputs": [
    {
     "data": {
      "text/html": [
       "<div>\n",
       "<style scoped>\n",
       "    .dataframe tbody tr th:only-of-type {\n",
       "        vertical-align: middle;\n",
       "    }\n",
       "\n",
       "    .dataframe tbody tr th {\n",
       "        vertical-align: top;\n",
       "    }\n",
       "\n",
       "    .dataframe thead th {\n",
       "        text-align: right;\n",
       "    }\n",
       "</style>\n",
       "<table border=\"1\" class=\"dataframe\">\n",
       "  <thead>\n",
       "    <tr style=\"text-align: right;\">\n",
       "      <th></th>\n",
       "      <th>col_2</th>\n",
       "      <th>col_1</th>\n",
       "    </tr>\n",
       "  </thead>\n",
       "  <tbody>\n",
       "    <tr>\n",
       "      <th>9</th>\n",
       "      <td>-1.127470</td>\n",
       "      <td>-0.099966</td>\n",
       "    </tr>\n",
       "    <tr>\n",
       "      <th>0</th>\n",
       "      <td>-0.694423</td>\n",
       "      <td>-0.687615</td>\n",
       "    </tr>\n",
       "    <tr>\n",
       "      <th>4</th>\n",
       "      <td>-0.589437</td>\n",
       "      <td>0.999419</td>\n",
       "    </tr>\n",
       "    <tr>\n",
       "      <th>3</th>\n",
       "      <td>0.214317</td>\n",
       "      <td>-0.457824</td>\n",
       "    </tr>\n",
       "    <tr>\n",
       "      <th>7</th>\n",
       "      <td>0.256398</td>\n",
       "      <td>-0.167888</td>\n",
       "    </tr>\n",
       "    <tr>\n",
       "      <th>8</th>\n",
       "      <td>0.527463</td>\n",
       "      <td>-1.283822</td>\n",
       "    </tr>\n",
       "    <tr>\n",
       "      <th>1</th>\n",
       "      <td>0.569614</td>\n",
       "      <td>-1.348525</td>\n",
       "    </tr>\n",
       "    <tr>\n",
       "      <th>5</th>\n",
       "      <td>0.832609</td>\n",
       "      <td>0.873305</td>\n",
       "    </tr>\n",
       "    <tr>\n",
       "      <th>2</th>\n",
       "      <td>0.901973</td>\n",
       "      <td>1.019166</td>\n",
       "    </tr>\n",
       "    <tr>\n",
       "      <th>6</th>\n",
       "      <td>0.916732</td>\n",
       "      <td>-2.681002</td>\n",
       "    </tr>\n",
       "  </tbody>\n",
       "</table>\n",
       "</div>"
      ],
      "text/plain": [
       "      col_2     col_1\n",
       "9 -1.127470 -0.099966\n",
       "0 -0.694423 -0.687615\n",
       "4 -0.589437  0.999419\n",
       "3  0.214317 -0.457824\n",
       "7  0.256398 -0.167888\n",
       "8  0.527463 -1.283822\n",
       "1  0.569614 -1.348525\n",
       "5  0.832609  0.873305\n",
       "2  0.901973  1.019166\n",
       "6  0.916732 -2.681002"
      ]
     },
     "execution_count": 54,
     "metadata": {},
     "output_type": "execute_result"
    }
   ],
   "source": [
    "# By Value\n",
    "info = data.sort_values(by='col_2')\n",
    "info"
   ]
  },
  {
   "cell_type": "markdown",
   "metadata": {},
   "source": [
    "## String Functions"
   ]
  },
  {
   "cell_type": "code",
   "execution_count": 58,
   "metadata": {},
   "outputs": [
    {
     "name": "stdout",
     "output_type": "stream",
     "text": [
      "0      parth\n",
      "1    anamika\n",
      "2    shivani\n",
      "dtype: object\n"
     ]
    }
   ],
   "source": [
    "data = pd.Series(['Parth', 'Anamika', 'Shivani'])\n",
    "print(data.str.lower())"
   ]
  },
  {
   "cell_type": "code",
   "execution_count": 60,
   "metadata": {},
   "outputs": [
    {
     "name": "stdout",
     "output_type": "stream",
     "text": [
      "0      PARTH\n",
      "1    ANAMIKA\n",
      "2    SHIVANI\n",
      "dtype: object\n",
      "0    False\n",
      "1    False\n",
      "2    False\n",
      "dtype: bool\n",
      "0    False\n",
      "1    False\n",
      "2    False\n",
      "dtype: bool\n",
      "0    False\n",
      "1    False\n",
      "2    False\n",
      "dtype: bool\n"
     ]
    }
   ],
   "source": [
    "print(data.str.upper())\n",
    "print(data.str.isupper())\n",
    "print(data.str.islower())\n",
    "print(data.str.isnumeric())"
   ]
  },
  {
   "cell_type": "markdown",
   "metadata": {},
   "source": [
    "## Statistics Functions"
   ]
  },
  {
   "cell_type": "code",
   "execution_count": 64,
   "metadata": {},
   "outputs": [
    {
     "data": {
      "text/plain": [
       "A_Java    103\n",
       "DAA       105\n",
       "WD        104\n",
       "dtype: int64"
      ]
     },
     "execution_count": 64,
     "metadata": {},
     "output_type": "execute_result"
    }
   ],
   "source": [
    "data = pd.DataFrame({\n",
    "    'A_Java': [18, 17, 14, 14, 15, 12, 13],\n",
    "    'DAA': [16, 18, 15, 15, 16, 13, 12],\n",
    "    'WD': [17, 18, 15, 15, 14, 13, 12]\n",
    "})\n",
    "\n",
    "data.sum()"
   ]
  },
  {
   "cell_type": "code",
   "execution_count": 65,
   "metadata": {},
   "outputs": [
    {
     "data": {
      "text/plain": [
       "A_Java    7\n",
       "DAA       7\n",
       "WD        7\n",
       "dtype: int64"
      ]
     },
     "execution_count": 65,
     "metadata": {},
     "output_type": "execute_result"
    }
   ],
   "source": [
    "data.count()"
   ]
  },
  {
   "cell_type": "code",
   "execution_count": 66,
   "metadata": {},
   "outputs": [
    {
     "data": {
      "text/plain": [
       "A_Java    18\n",
       "DAA       18\n",
       "WD        18\n",
       "dtype: int64"
      ]
     },
     "execution_count": 66,
     "metadata": {},
     "output_type": "execute_result"
    }
   ],
   "source": [
    "data.max()"
   ]
  },
  {
   "cell_type": "code",
   "execution_count": 67,
   "metadata": {},
   "outputs": [
    {
     "data": {
      "text/plain": [
       "A_Java    12\n",
       "DAA       12\n",
       "WD        12\n",
       "dtype: int64"
      ]
     },
     "execution_count": 67,
     "metadata": {},
     "output_type": "execute_result"
    }
   ],
   "source": [
    "data.min()"
   ]
  },
  {
   "cell_type": "code",
   "execution_count": 68,
   "metadata": {},
   "outputs": [
    {
     "data": {
      "text/plain": [
       "A_Java    14.0\n",
       "DAA       15.0\n",
       "WD        15.0\n",
       "dtype: float64"
      ]
     },
     "execution_count": 68,
     "metadata": {},
     "output_type": "execute_result"
    }
   ],
   "source": [
    "data.median()"
   ]
  },
  {
   "cell_type": "code",
   "execution_count": null,
   "metadata": {},
   "outputs": [
    {
     "name": "stdout",
     "output_type": "stream",
     "text": [
      "First Name\n",
      "Edithe        62\n",
      "Elwood        62\n",
      "Darby         67\n",
      "Dominica      71\n",
      "Bay           21\n",
      "              ..\n",
      "Gareth        85\n",
      "Kasey         19\n",
      "Darrin        65\n",
      "Gayle         34\n",
      "Wilhelmine    10\n",
      "Name: Age, Length: 98619, dtype: int64\n"
     ]
    }
   ],
   "source": [
    "# Indexing using [] operator\n",
    "data = pd.read_csv('./Airline.csv', index_col='First Name')\n",
    "first = data['Age']\n",
    "print(first)\n"
   ]
  },
  {
   "cell_type": "code",
   "execution_count": 76,
   "metadata": {},
   "outputs": [
    {
     "name": "stdout",
     "output_type": "stream",
     "text": [
      "            Passenger ID   Last Name Gender  Age  \\\n",
      "First Name                                         \n",
      "Bay                82072     Pencost   Male   21   \n",
      "Bay                22564  Hryniewicz   Male   83   \n",
      "Bay                31400     Dumelow   Male   89   \n",
      "Bay                41257     Whiffen   Male   29   \n",
      "Bay                93618      Havill   Male   52   \n",
      "Bay                93588      Rainey   Male   21   \n",
      "Bay                99893       Dinse   Male   23   \n",
      "Bay                78921      Atwood   Male   81   \n",
      "Bay                78472      Crepel   Male    9   \n",
      "Bay                81146        Spur   Male   55   \n",
      "\n",
      "                                 Nationality  \\\n",
      "First Name                                     \n",
      "Bay                                    China   \n",
      "Bay                                 Colombia   \n",
      "Bay         Democratic Republic of the Congo   \n",
      "Bay                               Kyrgyzstan   \n",
      "Bay                                    China   \n",
      "Bay                                   Sweden   \n",
      "Bay                              Philippines   \n",
      "Bay                                   Brazil   \n",
      "Bay                                    China   \n",
      "Bay                                Indonesia   \n",
      "\n",
      "                                Airport Name Airport Country Code  \\\n",
      "First Name                                                          \n",
      "Bay                          Gillespie Field                   US   \n",
      "Bay            Can Tho International Airport                   VN   \n",
      "Bay             George F. L. Charles Airport                   LC   \n",
      "Bay                      Cape Dorset Airport                   CA   \n",
      "Bay                   Fazenda Cataco Airport                   BR   \n",
      "Bay                            Valle Airport                   US   \n",
      "Bay                            Nowra Airport                   AU   \n",
      "Bay                           Masasi Airport                   TZ   \n",
      "Bay                       Miraflores Airport                   CO   \n",
      "Bay         Concord-Padgett Regional Airport                   US   \n",
      "\n",
      "                            Country Name Airport Continent     Continents  \\\n",
      "First Name                                                                  \n",
      "Bay                        United States               NAM  North America   \n",
      "Bay                             Viet Nam                AS           Asia   \n",
      "Bay                          Saint Lucia               NAM  North America   \n",
      "Bay                               Canada               NAM  North America   \n",
      "Bay                               Brazil               SAM  South America   \n",
      "Bay                        United States               NAM  North America   \n",
      "Bay                            Australia                OC        Oceania   \n",
      "Bay         Tanzania, United Republic of                AF         Africa   \n",
      "Bay                             Colombia               SAM  South America   \n",
      "Bay                        United States               NAM  North America   \n",
      "\n",
      "           Departure Date Arrival Airport      Pilot Name Flight Status  \n",
      "First Name                                                               \n",
      "Bay             2/25/2022             SEE     Bay Pencost       On Time  \n",
      "Bay             8/30/2022             VCA  Bay Hryniewicz       On Time  \n",
      "Bay              2/6/2022             SLU     Bay Dumelow       On Time  \n",
      "Bay             9/22/2022             YTE     Bay Whiffen     Cancelled  \n",
      "Bay            11/28/2022               0      Bay Havill     Cancelled  \n",
      "Bay              1/3/2022             VLE      Bay Rainey     Cancelled  \n",
      "Bay             9/28/2022             NOA       Bay Dinse     Cancelled  \n",
      "Bay              5/4/2022             XMI      Bay Atwood       On Time  \n",
      "Bay              4/8/2022             MFS      Bay Crepel       On Time  \n",
      "Bay             9/19/2022             USA        Bay Spur       Delayed   \n",
      "\n",
      "             Passenger ID  Last Name  Gender  Age     Nationality  \\\n",
      "First Name                                                         \n",
      "Kasey              40784     Cloake  Female   24          Russia   \n",
      "Kasey              59042   Pargiter  Female   46  Czech Republic   \n",
      "Kasey              82968  Mattholie  Female   76         Nigeria   \n",
      "Kasey              66063     Godson  Female   50           China   \n",
      "Kasey              86115    Griniov  Female   82           China   \n",
      "Kasey              89280     Retter  Female   28          Sweden   \n",
      "Kasey              44333    Copnell  Female   32           China   \n",
      "Kasey              31938    Froment  Female   89          France   \n",
      "Kasey              74768    Chainey  Female   80           Libya   \n",
      "Kasey              23329    Cheeney  Female   35          Brazil   \n",
      "Kasey              62728     Emsden  Female   18           Yemen   \n",
      "Kasey              16605      McKie  Female    4          Cyprus   \n",
      "Kasey              68433    Macenzy  Female   20       Macedonia   \n",
      "Kasey              22028   Benedict  Female   19          Russia   \n",
      "\n",
      "                                           Airport Name Airport Country Code  \\\n",
      "First Name                                                                     \n",
      "Kasey                                   Prieska Airport                   ZA   \n",
      "Kasey                   Pago Pago International Airport                   AS   \n",
      "Kasey                             Salgado Filho Airport                   BR   \n",
      "Kasey                                  Tulaghi Heliport                   SB   \n",
      "Kasey                               Yoshkar-Ola Airport                   RU   \n",
      "Kasey                                     Monto Airport                   AU   \n",
      "Kasey                                    Mwanza Airport                   TZ   \n",
      "Kasey                                     Kudat Airport                   MY   \n",
      "Kasey                                 Ogeranang Airport                   PG   \n",
      "Kasey                                Port Hardy Airport                   CA   \n",
      "Kasey       Eleftherios Venizelos International Airport                   GR   \n",
      "Kasey                       Evansville Regional Airport                   US   \n",
      "Kasey                                      Graz Airport                   AT   \n",
      "Kasey                               Ampampamena Airport                   MG   \n",
      "\n",
      "                            Country Name Airport Continent     Continents  \\\n",
      "First Name                                                                  \n",
      "Kasey                       South Africa                AF         Africa   \n",
      "Kasey                     American Samoa                OC        Oceania   \n",
      "Kasey                             Brazil               SAM  South America   \n",
      "Kasey                    Solomon Islands                OC        Oceania   \n",
      "Kasey                 Russian Federation                EU         Europe   \n",
      "Kasey                          Australia                OC        Oceania   \n",
      "Kasey       Tanzania, United Republic of                AF         Africa   \n",
      "Kasey                           Malaysia                AS           Asia   \n",
      "Kasey                   Papua New Guinea                OC        Oceania   \n",
      "Kasey                             Canada               NAM  North America   \n",
      "Kasey                             Greece                EU         Europe   \n",
      "Kasey                      United States               NAM  North America   \n",
      "Kasey                            Austria                EU         Europe   \n",
      "Kasey                         Madagascar                AF         Africa   \n",
      "\n",
      "           Departure Date Arrival Airport       Pilot Name Flight Status  \n",
      "First Name                                                                \n",
      "Kasey           5/25/2022             PRK     Kasey Cloake       On Time  \n",
      "Kasey          12/25/2022             PPG   Kasey Pargiter       On Time  \n",
      "Kasey            3/6/2022             POA  Kasey Mattholie       On Time  \n",
      "Kasey           1/12/2022             TLG     Kasey Godson     Cancelled  \n",
      "Kasey            9/6/2022             JOK    Kasey Griniov     Cancelled  \n",
      "Kasey           2/17/2022             MNQ     Kasey Retter     Cancelled  \n",
      "Kasey          12/26/2022             MWZ    Kasey Copnell     Cancelled  \n",
      "Kasey           5/17/2022             KUD    Kasey Froment     Cancelled  \n",
      "Kasey            9/1/2022             OGE    Kasey Chainey     Cancelled  \n",
      "Kasey           2/19/2022             YZT    Kasey Cheeney       On Time  \n",
      "Kasey           1/19/2022             ATH     Kasey Emsden     Cancelled  \n",
      "Kasey           8/14/2022             EVV      Kasey McKie       Delayed  \n",
      "Kasey           4/13/2022             GRZ    Kasey Macenzy       On Time  \n",
      "Kasey          10/30/2022             IVA   Kasey Benedict     Cancelled  \n"
     ]
    }
   ],
   "source": [
    "# Indexing using .loc[]\n",
    "first = data.loc['Bay']\n",
    "second = data.loc['Kasey']\n",
    "\n",
    "print(f'{first} \\n\\n {second}')"
   ]
  },
  {
   "cell_type": "code",
   "execution_count": 77,
   "metadata": {},
   "outputs": [
    {
     "name": "stdout",
     "output_type": "stream",
     "text": [
      "Passenger ID                                78493\n",
      "Last Name                                    Pyle\n",
      "Gender                                     Female\n",
      "Age                                            71\n",
      "Nationality                                 China\n",
      "Airport Name            Ottawa / Gatineau Airport\n",
      "Airport Country Code                           CA\n",
      "Country Name                               Canada\n",
      "Airport Continent                             NAM\n",
      "Continents                          North America\n",
      "Departure Date                          9/16/2022\n",
      "Arrival Airport                               YND\n",
      "Pilot Name                          Dominica Pyle\n",
      "Flight Status                             Delayed\n",
      "Name: Dominica, dtype: object\n"
     ]
    }
   ],
   "source": [
    "# Indexing using .iloc[]\n",
    "row = data.iloc[3]\n",
    "print(f'{row}')"
   ]
  },
  {
   "cell_type": "code",
   "execution_count": null,
   "metadata": {},
   "outputs": [],
   "source": []
  }
 ],
 "metadata": {
  "kernelspec": {
   "display_name": "Python 3",
   "language": "python",
   "name": "python3"
  },
  "language_info": {
   "codemirror_mode": {
    "name": "ipython",
    "version": 3
   },
   "file_extension": ".py",
   "mimetype": "text/x-python",
   "name": "python",
   "nbconvert_exporter": "python",
   "pygments_lexer": "ipython3",
   "version": "3.12.4"
  }
 },
 "nbformat": 4,
 "nbformat_minor": 2
}
