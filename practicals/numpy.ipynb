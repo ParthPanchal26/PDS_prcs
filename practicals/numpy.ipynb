{
 "cells": [
  {
   "cell_type": "code",
   "execution_count": 1,
   "metadata": {},
   "outputs": [
    {
     "name": "stdout",
     "output_type": "stream",
     "text": [
      "Defaulting to user installation because normal site-packages is not writeable\n",
      "Requirement already satisfied: numpy in c:\\users\\hello\\appdata\\roaming\\python\\python312\\site-packages (1.26.4)\n",
      "Note: you may need to restart the kernel to use updated packages.\n"
     ]
    },
    {
     "name": "stderr",
     "output_type": "stream",
     "text": [
      "\n",
      "[notice] A new release of pip is available: 24.2 -> 24.3.1\n",
      "[notice] To update, run: python.exe -m pip install --upgrade pip\n"
     ]
    }
   ],
   "source": [
    "pip install numpy"
   ]
  },
  {
   "cell_type": "code",
   "execution_count": 14,
   "metadata": {},
   "outputs": [
    {
     "name": "stdout",
     "output_type": "stream",
     "text": [
      "123\n",
      "Dimension: 0\n"
     ]
    }
   ],
   "source": [
    "import numpy as np\n",
    "\n",
    "zero_D_arr = np.array(123)\n",
    "print(zero_D_arr)\n",
    "print(f'Dimension: {zero_D_arr.ndim}')"
   ]
  },
  {
   "cell_type": "code",
   "execution_count": 15,
   "metadata": {},
   "outputs": [
    {
     "name": "stdout",
     "output_type": "stream",
     "text": [
      "[1 2 3 4 5]\n",
      "Dimension: 1\n"
     ]
    }
   ],
   "source": [
    "one_D_arr = np.array([1, 2, 3, 4, 5])\n",
    "print(one_D_arr)\n",
    "print(f'Dimension: {one_D_arr.ndim}')"
   ]
  },
  {
   "cell_type": "code",
   "execution_count": 16,
   "metadata": {},
   "outputs": [
    {
     "name": "stdout",
     "output_type": "stream",
     "text": [
      "[[1 2 3]\n",
      " [4 5 6]]\n",
      "Dimension: 2\n"
     ]
    }
   ],
   "source": [
    "two_D_arr = np.array([[1, 2, 3], [4, 5, 6]])\n",
    "print(two_D_arr)\n",
    "print(f'Dimension: {two_D_arr.ndim}')"
   ]
  },
  {
   "cell_type": "code",
   "execution_count": 19,
   "metadata": {},
   "outputs": [
    {
     "name": "stdout",
     "output_type": "stream",
     "text": [
      "[[[ 1  2  3]\n",
      "  [ 4  5  6]\n",
      "  [11 22 33]]\n",
      "\n",
      " [[ 7  8  9]\n",
      "  [10 11 12]\n",
      "  [44 55 66]]]\n",
      "Dimension: 3\n"
     ]
    }
   ],
   "source": [
    "three_D_arr = np.array(\n",
    "        [\n",
    "            [\n",
    "                [1, 2, 3], \n",
    "                [4, 5, 6],\n",
    "                [11, 22, 33]\n",
    "            ],\n",
    "            [\n",
    "                [7, 8, 9],\n",
    "                [10, 11, 12],\n",
    "                [44, 55, 66]\n",
    "            ]\n",
    "        ]\n",
    "    )\n",
    "print(three_D_arr)\n",
    "print(f'Dimension: {three_D_arr.ndim}')"
   ]
  },
  {
   "cell_type": "code",
   "execution_count": 23,
   "metadata": {},
   "outputs": [],
   "source": [
    "file = np.array([1, 2, 3, 4, 5])\n",
    "\n",
    "np.save('np_save', file)"
   ]
  },
  {
   "cell_type": "code",
   "execution_count": 24,
   "metadata": {},
   "outputs": [
    {
     "name": "stdout",
     "output_type": "stream",
     "text": [
      "[1 2 3 4 5]\n"
     ]
    }
   ],
   "source": [
    "buffer = np.load('./np_save.npy')\n",
    "print(buffer)"
   ]
  },
  {
   "cell_type": "code",
   "execution_count": 26,
   "metadata": {},
   "outputs": [
    {
     "name": "stdout",
     "output_type": "stream",
     "text": [
      "[1. 2. 3. 4. 5.]\n"
     ]
    }
   ],
   "source": [
    "temp_arr = np.array([1, 2, 3, 4, 5])\n",
    "np.savetxt(\"Numpy_arr\", temp_arr)\n",
    "\n",
    "arr_buffer = np.loadtxt('./Numpy_arr')\n",
    "print(arr_buffer)"
   ]
  },
  {
   "cell_type": "markdown",
   "metadata": {},
   "source": [
    "## Indexing"
   ]
  },
  {
   "cell_type": "code",
   "execution_count": 27,
   "metadata": {},
   "outputs": [
    {
     "name": "stdout",
     "output_type": "stream",
     "text": [
      "[1 3 5 7 9]\n"
     ]
    }
   ],
   "source": [
    "arr = np.arange(1, 10, 2)\n",
    "print(arr)"
   ]
  },
  {
   "cell_type": "code",
   "execution_count": null,
   "metadata": {},
   "outputs": [
    {
     "name": "stdout",
     "output_type": "stream",
     "text": [
      "[9 1 5 9 7]\n"
     ]
    }
   ],
   "source": [
    "# For [1 3 5 7 9] array, this indexed array will print elements specified in list\n",
    "\"\"\"\n",
    "    4: Element at index 4 = 9\n",
    "    0: Element at index 0 = 1\n",
    "    2: Element at index 2 = 5\n",
    "    -1: Element at index -1 = 9\n",
    "    -2: Element at index -2 = 7\n",
    "    \n",
    "    Therefor the output is: [9 1 5 9 7]\n",
    "\"\"\"\n",
    "\n",
    "arr_index = arr[np.array([4, 0, 2, -1, -2])]\n",
    "print(arr_index)"
   ]
  },
  {
   "cell_type": "markdown",
   "metadata": {},
   "source": [
    "## Indexing 1D array"
   ]
  },
  {
   "cell_type": "code",
   "execution_count": 50,
   "metadata": {},
   "outputs": [
    {
     "name": "stdout",
     "output_type": "stream",
     "text": [
      "[ 0  1  2  3  4  5  6  7  8  9 10 11]\n",
      "0\n",
      "1\n",
      "5\n"
     ]
    }
   ],
   "source": [
    "arr_1 = np.arange(12)\n",
    "\n",
    "print(arr_1)\n",
    "print(arr_1[0])\n",
    "print(arr_1[1])\n",
    "print(arr_1[5])\n"
   ]
  },
  {
   "cell_type": "markdown",
   "metadata": {},
   "source": [
    "## Indexing 2D array"
   ]
  },
  {
   "cell_type": "code",
   "execution_count": 54,
   "metadata": {},
   "outputs": [
    {
     "name": "stdout",
     "output_type": "stream",
     "text": [
      "[[ 0  1  2  3]\n",
      " [ 4  5  6  7]\n",
      " [ 8  9 10 11]]\n",
      "arr_1[0, 3]: 3\n",
      "arr_1[1, 2]: 6\n",
      "arr_1[2, 1]: 9\n"
     ]
    }
   ],
   "source": [
    "arr_1 = arr_1.reshape(3, 4)\n",
    "print(arr_1)\n",
    "print(f'arr_1[0, 3]: {arr_1[0, 3]}')\n",
    "print(f'arr_1[1, 2]: {arr_1[1, 2]}')\n",
    "print(f'arr_1[2, 1]: {arr_1[2, 1]}')"
   ]
  },
  {
   "cell_type": "code",
   "execution_count": null,
   "metadata": {},
   "outputs": [
    {
     "name": "stdout",
     "output_type": "stream",
     "text": [
      "[[[ 1  2  3]\n",
      "  [ 4  5  6]\n",
      "  [11 22 33]]\n",
      "\n",
      " [[ 7  8  9]\n",
      "  [10 11 12]\n",
      "  [44 55 66]]]\n",
      "Element at arr_1[0, 1, 2]: 6\n",
      "Element at arr_1[0, 1, 2]: 2\n",
      "Element at arr_1[0, 1, 2]: 12\n",
      "Element at arr_1[0, 1, 2]: 5\n"
     ]
    }
   ],
   "source": [
    "arr_1 = np.array([[[1, 2, 3], [4, 5, 6],[11, 22, 33]],[[7, 8, 9],[10, 11, 12],[44, 55, 66]]])\n",
    "\n",
    "print(arr_1)\n",
    "\n",
    "print(f'Element at arr_1[0, 1, 2]: {arr_1[0, 1, 2]}')\n",
    "print(f'Element at arr_1[0, 1, 2]: {arr_1[0, 0, 1]}')\n",
    "print(f'Element at arr_1[0, 1, 2]: {arr_1[1, 1, 2]}')\n",
    "print(f'Element at arr_1[0, 1, 2]: {arr_1[0, 1, 1]}')"
   ]
  },
  {
   "cell_type": "markdown",
   "metadata": {},
   "source": [
    "## Slicing 1D array"
   ]
  },
  {
   "cell_type": "code",
   "execution_count": 74,
   "metadata": {},
   "outputs": [
    {
     "name": "stdout",
     "output_type": "stream",
     "text": [
      "[0 1 2]\n"
     ]
    }
   ],
   "source": [
    "arr = np.arange(6)\n",
    "print(arr[0:3])"
   ]
  },
  {
   "cell_type": "markdown",
   "metadata": {},
   "source": [
    "## Slicing 2D array"
   ]
  },
  {
   "cell_type": "code",
   "execution_count": 113,
   "metadata": {},
   "outputs": [
    {
     "name": "stdout",
     "output_type": "stream",
     "text": [
      "[[ 0  1  2  3]\n",
      " [ 4  5  6  7]\n",
      " [ 8  9 10 11]]\n",
      "[[1]\n",
      " [5]\n",
      " [9]]\n"
     ]
    }
   ],
   "source": [
    "arr = np.arange(12)\n",
    "arr = arr.reshape(3, 4)\n",
    "print(arr)\n",
    "print(arr[0:, 1:2])\n"
   ]
  },
  {
   "cell_type": "markdown",
   "metadata": {},
   "source": [
    "## Broadcasting"
   ]
  },
  {
   "cell_type": "code",
   "execution_count": 115,
   "metadata": {},
   "outputs": [
    {
     "name": "stdout",
     "output_type": "stream",
     "text": [
      "[[1 2 3 4]\n",
      " [5 6 7 8]]\n",
      "\n",
      "[ 9 10 11 12]\n",
      "\n",
      "[[10 12 14 16]\n",
      " [14 16 18 20]]\n",
      "\n"
     ]
    }
   ],
   "source": [
    "arr_1 = np.array([[1, 2, 3, 4], [5, 6, 7, 8]])\n",
    "arr_2 = np.array([9, 10, 11, 12])\n",
    "\n",
    "print(f'{arr_1}\\n')\n",
    "print(f'{arr_2}\\n')\n",
    "print(f'{arr_1 + arr_2}\\n')"
   ]
  },
  {
   "cell_type": "markdown",
   "metadata": {},
   "source": [
    "## Statistical Functions"
   ]
  },
  {
   "cell_type": "code",
   "execution_count": null,
   "metadata": {},
   "outputs": [
    {
     "name": "stdout",
     "output_type": "stream",
     "text": [
      "3.5\n",
      "3.0\n",
      "3.5\n",
      "2.0\n",
      "\n",
      "\n",
      "43.0\n",
      "48.5\n",
      "54.0\n",
      "72.0\n",
      "90.0\n",
      "\n",
      "\n",
      "3\n"
     ]
    }
   ],
   "source": [
    "\n",
    "# all ele sum / total ele\n",
    "print(np.mean([1, 2, 3, 4, 5, 6]))\n",
    "\n",
    "# Middle ele\n",
    "print(np.median([1, 2, 3, 4, 5]))\n",
    "\n",
    "# average\n",
    "print(np.average([1, 2, 3, 4, 5, 6]))\n",
    "\n",
    "# Variance\n",
    "print(np.var([1, 2, 3, 4, 5]))\n",
    "\n",
    "# Percentile\n",
    "print('\\n')\n",
    "print(np.percentile([90, 43, 54], 0))\n",
    "print(np.percentile([90, 43, 54], 25))\n",
    "print(np.percentile([90, 43, 54], 50))\n",
    "print(np.percentile([90, 43, 54], 75))\n",
    "print(np.percentile([90, 43, 54], 100))\n",
    "\n",
    "# Range\n",
    "print('\\n')\n",
    "print(np.ptp([1, 2, 3, 4]))\n",
    "\n"
   ]
  },
  {
   "cell_type": "code",
   "execution_count": null,
   "metadata": {},
   "outputs": [],
   "source": []
  }
 ],
 "metadata": {
  "kernelspec": {
   "display_name": "Python 3",
   "language": "python",
   "name": "python3"
  },
  "language_info": {
   "codemirror_mode": {
    "name": "ipython",
    "version": 3
   },
   "file_extension": ".py",
   "mimetype": "text/x-python",
   "name": "python",
   "nbconvert_exporter": "python",
   "pygments_lexer": "ipython3",
   "version": "3.12.4"
  }
 },
 "nbformat": 4,
 "nbformat_minor": 2
}
