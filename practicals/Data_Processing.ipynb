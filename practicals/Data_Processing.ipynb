{
 "cells": [
  {
   "cell_type": "code",
   "execution_count": 3,
   "metadata": {},
   "outputs": [
    {
     "name": "stdout",
     "output_type": "stream",
     "text": [
      "Initial DataFrame:\n",
      "     A    B    C\n",
      "0  1.0  5.0  foo\n",
      "1  2.0  4.0  bar\n",
      "2  NaN  3.0  baz\n",
      "3  4.0  NaN  foo\n",
      "4  5.0  1.0  bar\n"
     ]
    }
   ],
   "source": [
    "# Importing necessary libraries\n",
    "import pandas as pd\n",
    "import numpy as np\n",
    "\n",
    "# Sample DataFrame creation for demonstration\n",
    "data = {\n",
    "    'A': [1, 2, np.nan, 4, 5],\n",
    "    'B': [5, 4, 3, np.nan, 1],\n",
    "    'C': ['foo', 'bar', 'baz', 'foo', 'bar']\n",
    "}\n",
    "df = pd.DataFrame(data)\n",
    "print(\"Initial DataFrame:\")\n",
    "print(df)\n",
    "\n"
   ]
  },
  {
   "cell_type": "code",
   "execution_count": 4,
   "metadata": {},
   "outputs": [],
   "source": [
    "\n",
    "# 1. Data loading\n",
    "# Loading a CSV file (example: 'data.csv')\n",
    "# df = pd.read_csv('data.csv')\n",
    "\n"
   ]
  },
  {
   "cell_type": "code",
   "execution_count": 5,
   "metadata": {},
   "outputs": [
    {
     "name": "stdout",
     "output_type": "stream",
     "text": [
      "\n",
      "DataFrame after filling missing values:\n",
      "     A     B    C\n",
      "0  1.0  5.00  foo\n",
      "1  2.0  4.00  bar\n",
      "2  3.0  3.00  baz\n",
      "3  4.0  3.25  foo\n",
      "4  5.0  1.00  bar\n"
     ]
    }
   ],
   "source": [
    "# 2. Data cleaning - handling missing data\n",
    "# Fill missing values with the mean of the column\n",
    "df_filled = df.fillna(df.mean(numeric_only=True))\n",
    "print(\"\\nDataFrame after filling missing values:\")\n",
    "print(df_filled)\n",
    "\n"
   ]
  },
  {
   "cell_type": "code",
   "execution_count": 6,
   "metadata": {},
   "outputs": [
    {
     "name": "stdout",
     "output_type": "stream",
     "text": [
      "\n",
      "DataFrame after dropping rows with NaN:\n",
      "     A    B    C\n",
      "0  1.0  5.0  foo\n",
      "1  2.0  4.0  bar\n",
      "4  5.0  1.0  bar\n"
     ]
    }
   ],
   "source": [
    "# 3. Dealing with missing data - drop rows with NaN values\n",
    "df_dropped = df.dropna()\n",
    "print(\"\\nDataFrame after dropping rows with NaN:\")\n",
    "print(df_dropped)"
   ]
  },
  {
   "cell_type": "code",
   "execution_count": 8,
   "metadata": {},
   "outputs": [
    {
     "name": "stdout",
     "output_type": "stream",
     "text": [
      "\n",
      "DataFrame after removing duplicates:\n",
      "     A    B    C  D\n",
      "0  1.0  5.0  foo  1\n",
      "1  2.0  4.0  bar  2\n",
      "2  NaN  3.0  baz  2\n",
      "3  4.0  NaN  foo  1\n",
      "4  5.0  1.0  bar  3\n"
     ]
    }
   ],
   "source": [
    "# 4. Removing duplicates\n",
    "df['D'] = [1, 2, 2, 1, 3]  # Adding a new column for demonstration\n",
    "df_no_duplicates = df.drop_duplicates()\n",
    "print(\"\\nDataFrame after removing duplicates:\")\n",
    "print(df_no_duplicates)\n",
    "\n"
   ]
  },
  {
   "cell_type": "code",
   "execution_count": 9,
   "metadata": {},
   "outputs": [
    {
     "name": "stdout",
     "output_type": "stream",
     "text": [
      "\n",
      "Sliced DataFrame:\n",
      "     A    C\n",
      "1  2.0  bar\n",
      "2  NaN  baz\n",
      "3  4.0  foo\n"
     ]
    }
   ],
   "source": [
    "# 5. Slicing and dicing\n",
    "sliced_df = df.loc[1:3, ['A', 'C']]\n",
    "print(\"\\nSliced DataFrame:\")\n",
    "print(sliced_df)\n",
    "\n"
   ]
  },
  {
   "cell_type": "code",
   "execution_count": 10,
   "metadata": {},
   "outputs": [
    {
     "name": "stdout",
     "output_type": "stream",
     "text": [
      "\n",
      "Filtered DataFrame where A > 2:\n",
      "     A    B    C  D\n",
      "3  4.0  NaN  foo  1\n",
      "4  5.0  1.0  bar  3\n"
     ]
    }
   ],
   "source": [
    "# 6. Filtering and selecting data\n",
    "filtered_df = df[df['A'] > 2]\n",
    "print(\"\\nFiltered DataFrame where A > 2:\")\n",
    "print(filtered_df)\n",
    "\n"
   ]
  },
  {
   "cell_type": "code",
   "execution_count": 11,
   "metadata": {},
   "outputs": [
    {
     "name": "stdout",
     "output_type": "stream",
     "text": [
      "\n",
      "Concatenated DataFrame:\n",
      "      A     B     C    D\n",
      "0   1.0   5.0   foo  1.0\n",
      "1   2.0   4.0   bar  2.0\n",
      "2   NaN   3.0   baz  2.0\n",
      "3   4.0   NaN   foo  1.0\n",
      "4   5.0   1.0   bar  3.0\n",
      "5  10.0  15.0  new1  NaN\n",
      "6  11.0  16.0  new2  NaN\n"
     ]
    }
   ],
   "source": [
    "# 7. Concatenating and transforming\n",
    "new_data = pd.DataFrame({\n",
    "    'A': [10, 11],\n",
    "    'B': [15, 16],\n",
    "    'C': ['new1', 'new2']\n",
    "})\n",
    "concatenated_df = pd.concat([df, new_data], ignore_index=True)\n",
    "print(\"\\nConcatenated DataFrame:\")\n",
    "print(concatenated_df)\n",
    "\n"
   ]
  },
  {
   "cell_type": "code",
   "execution_count": 12,
   "metadata": {},
   "outputs": [
    {
     "name": "stdout",
     "output_type": "stream",
     "text": [
      "\n",
      "DataFrame after adding a new column 'E':\n",
      "     A    B    C  D     E\n",
      "0  1.0  5.0  foo  1   2.0\n",
      "1  2.0  4.0  bar  2   4.0\n",
      "2  NaN  3.0  baz  2   NaN\n",
      "3  4.0  NaN  foo  1   8.0\n",
      "4  5.0  1.0  bar  3  10.0\n"
     ]
    }
   ],
   "source": [
    "# 8. Adding new cases and variables\n",
    "df['E'] = df['A'] * 2  # Adding a new variable\n",
    "print(\"\\nDataFrame after adding a new column 'E':\")\n",
    "print(df)\n",
    "\n"
   ]
  },
  {
   "cell_type": "code",
   "execution_count": 13,
   "metadata": {},
   "outputs": [
    {
     "name": "stdout",
     "output_type": "stream",
     "text": [
      "\n",
      "DataFrame after removing column 'B':\n",
      "     A    C  D     E\n",
      "0  1.0  foo  1   2.0\n",
      "1  2.0  bar  2   4.0\n",
      "2  NaN  baz  2   NaN\n",
      "3  4.0  foo  1   8.0\n",
      "4  5.0  bar  3  10.0\n"
     ]
    }
   ],
   "source": [
    "# 9. Removing data\n",
    "df_removed = df.drop(columns=['B'])  # Removing column 'B'\n",
    "print(\"\\nDataFrame after removing column 'B':\")\n",
    "print(df_removed)\n",
    "\n"
   ]
  },
  {
   "cell_type": "code",
   "execution_count": 14,
   "metadata": {},
   "outputs": [
    {
     "name": "stdout",
     "output_type": "stream",
     "text": [
      "\n",
      "DataFrame sorted by column 'A':\n",
      "     A    B    C  D     E\n",
      "0  1.0  5.0  foo  1   2.0\n",
      "1  2.0  4.0  bar  2   4.0\n",
      "3  4.0  NaN  foo  1   8.0\n",
      "4  5.0  1.0  bar  3  10.0\n",
      "2  NaN  3.0  baz  2   NaN\n",
      "\n",
      "Shuffled DataFrame:\n",
      "     A    B    C  D     E\n",
      "0  NaN  3.0  baz  2   NaN\n",
      "1  2.0  4.0  bar  2   4.0\n",
      "2  5.0  1.0  bar  3  10.0\n",
      "3  1.0  5.0  foo  1   2.0\n",
      "4  4.0  NaN  foo  1   8.0\n"
     ]
    }
   ],
   "source": [
    "# 10. Sorting and shuffling\n",
    "df_sorted = df.sort_values(by='A')\n",
    "print(\"\\nDataFrame sorted by column 'A':\")\n",
    "print(df_sorted)\n",
    "\n",
    "df_shuffled = df.sample(frac=1).reset_index(drop=True)  # Shuffling rows\n",
    "print(\"\\nShuffled DataFrame:\")\n",
    "print(df_shuffled)\n",
    "\n"
   ]
  },
  {
   "cell_type": "code",
   "execution_count": 15,
   "metadata": {},
   "outputs": [
    {
     "name": "stdout",
     "output_type": "stream",
     "text": [
      "\n",
      "Aggregated DataFrame:\n",
      "       A    B\n",
      "C            \n",
      "bar  3.5  5.0\n",
      "baz  NaN  3.0\n",
      "foo  2.5  5.0\n"
     ]
    }
   ],
   "source": [
    "# 11. Aggregating data\n",
    "aggregated = df.groupby('C').agg({'A': 'mean', 'B': 'sum'})\n",
    "print(\"\\nAggregated DataFrame:\")\n",
    "print(aggregated)\n",
    "\n"
   ]
  },
  {
   "cell_type": "code",
   "execution_count": 16,
   "metadata": {},
   "outputs": [
    {
     "name": "stdout",
     "output_type": "stream",
     "text": [
      "\n",
      "DataFrame after handling outliers in column 'A':\n",
      "     A    B    C  D     E\n",
      "0  1.0  5.0  foo  1   2.0\n",
      "1  2.0  4.0  bar  2   4.0\n",
      "2  NaN  3.0  baz  2   NaN\n",
      "3  4.0  NaN  foo  1   8.0\n",
      "4  5.0  1.0  bar  3  10.0\n"
     ]
    }
   ],
   "source": [
    "# 12. Handling outliers\n",
    "# Replacing outliers in column 'A' with the median\n",
    "q_low = df['A'].quantile(0.25)\n",
    "q_high = df['A'].quantile(0.75)\n",
    "iqr = q_high - q_low\n",
    "outlier_condition = (df['A'] < (q_low - 1.5 * iqr)) | (df['A'] > (q_high + 1.5 * iqr))\n",
    "df['A'] = np.where(outlier_condition, df['A'].median(), df['A'])\n",
    "print(\"\\nDataFrame after handling outliers in column 'A':\")\n",
    "print(df)\n",
    "\n"
   ]
  },
  {
   "cell_type": "code",
   "execution_count": 17,
   "metadata": {},
   "outputs": [
    {
     "name": "stdout",
     "output_type": "stream",
     "text": [
      "\n",
      "Pivot table:\n",
      "       A\n",
      "C       \n",
      "bar  7.0\n",
      "baz  0.0\n",
      "foo  5.0\n"
     ]
    }
   ],
   "source": [
    "# 13. Data wrangling\n",
    "# Pivot table example\n",
    "pivot_df = df.pivot_table(values='A', index='C', aggfunc='sum')\n",
    "print(\"\\nPivot table:\")\n",
    "print(pivot_df)\n",
    "\n"
   ]
  },
  {
   "cell_type": "code",
   "execution_count": 18,
   "metadata": {},
   "outputs": [
    {
     "name": "stdout",
     "output_type": "stream",
     "text": [
      "\n",
      "DataFrame after normalizing column 'A':\n",
      "     A    B    C  D     E  A_normalized\n",
      "0  1.0  5.0  foo  1   2.0          0.00\n",
      "1  2.0  4.0  bar  2   4.0          0.25\n",
      "2  NaN  3.0  baz  2   NaN           NaN\n",
      "3  4.0  NaN  foo  1   8.0          0.75\n",
      "4  5.0  1.0  bar  3  10.0          1.00\n"
     ]
    }
   ],
   "source": [
    "# 14. Data normalization\n",
    "# Normalizing column 'A' using min-max scaling\n",
    "df['A_normalized'] = (df['A'] - df['A'].min()) / (df['A'].max() - df['A'].min())\n",
    "print(\"\\nDataFrame after normalizing column 'A':\")\n",
    "print(df)\n"
   ]
  },
  {
   "cell_type": "code",
   "execution_count": null,
   "metadata": {},
   "outputs": [],
   "source": []
  }
 ],
 "metadata": {
  "kernelspec": {
   "display_name": "Python 3",
   "language": "python",
   "name": "python3"
  },
  "language_info": {
   "codemirror_mode": {
    "name": "ipython",
    "version": 3
   },
   "file_extension": ".py",
   "mimetype": "text/x-python",
   "name": "python",
   "nbconvert_exporter": "python",
   "pygments_lexer": "ipython3",
   "version": "3.12.4"
  }
 },
 "nbformat": 4,
 "nbformat_minor": 2
}
