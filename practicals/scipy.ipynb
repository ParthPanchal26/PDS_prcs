{
 "cells": [
  {
   "cell_type": "markdown",
   "metadata": {},
   "source": [
    "## SciPy Library"
   ]
  },
  {
   "cell_type": "code",
   "execution_count": 1,
   "metadata": {},
   "outputs": [
    {
     "name": "stdout",
     "output_type": "stream",
     "text": [
      "Defaulting to user installation because normal site-packages is not writeable\n",
      "Requirement already satisfied: scipy in c:\\users\\hello\\appdata\\roaming\\python\\python312\\site-packages (1.14.1)\n",
      "Requirement already satisfied: numpy<2.3,>=1.23.5 in c:\\users\\hello\\appdata\\roaming\\python\\python312\\site-packages (from scipy) (1.26.4)\n",
      "Note: you may need to restart the kernel to use updated packages.\n"
     ]
    },
    {
     "name": "stderr",
     "output_type": "stream",
     "text": [
      "\n",
      "[notice] A new release of pip is available: 24.2 -> 24.3.1\n",
      "[notice] To update, run: python.exe -m pip install --upgrade pip\n"
     ]
    }
   ],
   "source": [
    "pip install scipy"
   ]
  },
  {
   "cell_type": "code",
   "execution_count": 3,
   "metadata": {},
   "outputs": [],
   "source": [
    "from scipy import stats"
   ]
  },
  {
   "cell_type": "markdown",
   "metadata": {},
   "source": [
    "### 1. Basic Descriptive Statistics"
   ]
  },
  {
   "cell_type": "code",
   "execution_count": null,
   "metadata": {},
   "outputs": [
    {
     "name": "stdout",
     "output_type": "stream",
     "text": [
      "Mean: 3.0\n"
     ]
    }
   ],
   "source": [
    "# Mean\n",
    "data = [1, 2, 3, 4, 5]\n",
    "mean = stats.tmean(data)\n",
    "print(f'Mean: {mean}')"
   ]
  },
  {
   "cell_type": "code",
   "execution_count": 6,
   "metadata": {},
   "outputs": [
    {
     "name": "stdout",
     "output_type": "stream",
     "text": [
      "Variance: 2.5\n"
     ]
    }
   ],
   "source": [
    "# Variance\n",
    "var = stats.tvar(data)\n",
    "print(f'Variance: {var}')"
   ]
  },
  {
   "cell_type": "code",
   "execution_count": 7,
   "metadata": {},
   "outputs": [
    {
     "name": "stdout",
     "output_type": "stream",
     "text": [
      "Standard Deviation: 1.5811388300841898\n"
     ]
    }
   ],
   "source": [
    "# Standart Deviation\n",
    "dev = stats.tstd(data)\n",
    "print(f'Standard Deviation: {dev}')"
   ]
  },
  {
   "cell_type": "code",
   "execution_count": 8,
   "metadata": {},
   "outputs": [
    {
     "name": "stdout",
     "output_type": "stream",
     "text": [
      "Skewness: 0.0\n"
     ]
    }
   ],
   "source": [
    "# Skewness \n",
    "Skewness = stats.skew(data)\n",
    "print(f'Skewness: {Skewness }')"
   ]
  },
  {
   "cell_type": "markdown",
   "metadata": {},
   "source": [
    "### 2. Probability Distributions"
   ]
  },
  {
   "cell_type": "code",
   "execution_count": 10,
   "metadata": {},
   "outputs": [
    {
     "name": "stdout",
     "output_type": "stream",
     "text": [
      "PDf Value: 0.24197072451914337\n"
     ]
    }
   ],
   "source": [
    "# PDF for Normal Distribution\n",
    "x = 1\n",
    "pdf_value = stats.norm.pdf(x, loc = 0, scale = 1)\n",
    "print(f'PDf Value: {pdf_value}')"
   ]
  },
  {
   "cell_type": "code",
   "execution_count": 11,
   "metadata": {},
   "outputs": [
    {
     "name": "stdout",
     "output_type": "stream",
     "text": [
      "CDF Value: 0.8413447460685429\n"
     ]
    }
   ],
   "source": [
    "# CDF for Normal Distribution\n",
    "cdf_value = stats.norm.cdf(x, loc = 0, scale = 1)\n",
    "print(f'CDF Value: {cdf_value}')"
   ]
  },
  {
   "cell_type": "code",
   "execution_count": 12,
   "metadata": {},
   "outputs": [
    {
     "name": "stdout",
     "output_type": "stream",
     "text": [
      "PPF Value: 1.6448536269514722\n"
     ]
    }
   ],
   "source": [
    "# PPF (Percent-Point Function) for Normal Distribution \n",
    "per = 0.95\n",
    "ppf = stats.norm.ppf(per, loc = 0, scale = 1)\n",
    "print(f'PPF Value: {ppf}')"
   ]
  },
  {
   "cell_type": "code",
   "execution_count": 13,
   "metadata": {},
   "outputs": [
    {
     "name": "stdout",
     "output_type": "stream",
     "text": [
      "[-0.34352264  0.61393056 -0.76436941  0.58097824 -0.12962023]\n"
     ]
    }
   ],
   "source": [
    "# Random Variable Generation\n",
    "random = stats.norm.rvs(loc = 0, scale = 1, size = 5)\n",
    "print(random)"
   ]
  }
 ],
 "metadata": {
  "kernelspec": {
   "display_name": "Python 3",
   "language": "python",
   "name": "python3"
  },
  "language_info": {
   "codemirror_mode": {
    "name": "ipython",
    "version": 3
   },
   "file_extension": ".py",
   "mimetype": "text/x-python",
   "name": "python",
   "nbconvert_exporter": "python",
   "pygments_lexer": "ipython3",
   "version": "3.12.4"
  }
 },
 "nbformat": 4,
 "nbformat_minor": 2
}
